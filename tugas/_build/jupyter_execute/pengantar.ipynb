{
 "cells": [
  {
   "cell_type": "markdown",
   "metadata": {},
   "source": [
    "# pengantar"
   ]
  },
  {
   "cell_type": "markdown",
   "metadata": {
    "id": "zpDbpDclvHCc"
   },
   "source": [
    "Definisi dan Tantangan Web Mining:\n",
    "\n",
    "\n"
   ]
  },
  {
   "cell_type": "markdown",
   "metadata": {
    "id": "8b_Z_SmAv28p"
   },
   "source": [
    "<center>Memahami Pencarian dan Penambangan Web </center>\n",
    "Pencarian web (web scraping) dan penambangan web (web mining) adalah dua proses komputasi yang seringkali dianggap sama, padahal keduanya memiliki fungsi yang berbeda namun saling melengkapi dalam siklus pengolahan data. Pencarian web, atau sering disebut juga ekstraksi data web, adalah proses pengambilan atau \"pengerukan\" data secara otomatis dari berbagai situs web menggunakan program komputer yang disebut bot atau crawler. Tujuannya adalah mengumpulkan informasi spesifik dalam jumlah besar dan mengubahnya dari format yang tidak terstruktur (seperti halaman HTML) menjadi format yang terstruktur (seperti file CSV atau basis data). Di sisi lain, penambangan web adalah proses analitis untuk menemukan pola, tren, dan wawasan yang tersembunyi dan bermanfaat dari kumpulan data besar yang telah dikumpulkan dari internet, termasuk data hasil dari pencarian web.\n",
    "\n",
    "Proses ini dimulai dengan pencarian web, di mana sebuah scraper dikonfigurasi untuk mengunjungi satu atau lebih URL target. Setelah halaman web diakses, scraper akan mem-parsing kode sumber halaman tersebut (biasanya HTML) untuk mengidentifikasi dan mengekstrak elemen data yang diinginkan, misalnya nama produk, harga, ulasan, atau informasi kontak. Data yang telah diekstraksi ini kemudian disimpan secara lokal. Data mentah inilah yang menjadi bahan baku untuk proses penambangan web.\n",
    "\n",
    "Aplikasi dari kedua teknik ini sangat luas dan merambah berbagai industri. Dalam dunia e-commerce, pencarian web digunakan untuk memantau harga pesaing secara real-time dan mengumpulkan ulasan produk untuk analisis sentimen. Data ini kemudian ditambang untuk menentukan strategi harga yang kompetitif dan memahami persepsi pelanggan. Di bidang pemasaran, perusahaan menggunakan pencarian web untuk mengumpulkan data dari media sosial, forum, dan blog. Selanjutnya, melalui penambangan web, mereka dapat menganalisis tren pasar, mengidentifikasi influencer, dan mengukur efektivitas kampanye. Para peneliti dan akademisi juga memanfaatkannya untuk mengumpulkan data publik untuk studi ilmiah, seperti analisis linguistik dari konten berita atau pemodelan penyebaran informasi.\n",
    "\n",
    "Sebagai kesimpulan, pencarian web dan penambangan web adalah dua sisi mata uang dalam pemanfaatan data dari World Wide Web. Pencarian web berfungsi sebagai \"tangan\" yang mengumpulkan data mentah dari lautan informasi di internet, sementara penambangan web adalah \"otak\" yang menganalisis data tersebut untuk mengubahnya menjadi wawasan berharga. Tanpa data yang akurat dan relevan dari pencarian web, proses penambangan tidak akan efektif. Sebaliknya, data yang melimpah dari pencarian web tidak akan memiliki nilai bisnis yang signifikan tanpa analisis mendalam melalui penambangan web. Kombinasi keduanya menjadi fondasi penting bagi pengambilan keputusan berbasis data di era digital saat ini.\n",
    "\n",
    "###Referensi\n",
    "1. Browserless. (n.d.). Web Scraping vs Data Mining: Differences, Use Cases & Tools. Diakses dari https://www.browserless.io/blog/web-scraping-vs-data\n",
    "\n",
    "2. GeeksforGeeks. (2024). Web Mining. Diakses dari https://www.geeksforgeeks.org/machine-learning/web-mining/\n",
    "\n",
    "3. Fortinet. (n.d.). What Is Web Scraping? How Do Scrapers Work?. Diakses dari https://www.fortinet.com/resources/cyberglossary/web-scraping\n",
    "\n",
    "\n",
    "4. Ephi. (2025). Web Mining: Teknik Terbaik untuk Menemukan Pola dan Tren di Dunia Maya. Diakses dari https://ephi.web.id/blog/2025/02/26/web-mining-teknik-terbaik-untuk-menemukan-pola-dan-tren-di-dunia-maya/"
   ]
  },
  {
   "cell_type": "code",
   "execution_count": 5,
   "metadata": {
    "id": "h9-hUzMSSl5L"
   },
   "outputs": [],
   "source": []
  },
  {
   "cell_type": "code",
   "execution_count": 4,
   "metadata": {
    "id": "S9khRC6fSxGH"
   },
   "outputs": [],
   "source": []
  }
 ],
 "metadata": {
  "colab": {
   "provenance": []
  },
  "kernelspec": {
   "display_name": "Python 3",
   "name": "python3"
  },
  "language_info": {
   "codemirror_mode": {
    "name": "ipython",
    "version": 3
   },
   "file_extension": ".py",
   "mimetype": "text/x-python",
   "name": "python",
   "nbconvert_exporter": "python",
   "pygments_lexer": "ipython3",
   "version": "3.10.6"
  }
 },
 "nbformat": 4,
 "nbformat_minor": 0
}