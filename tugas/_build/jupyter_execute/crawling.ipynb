{
 "cells": [
  {
   "cell_type": "markdown",
   "metadata": {},
   "source": [
    "# crawling"
   ]
  },
  {
   "cell_type": "code",
   "execution_count": 1,
   "metadata": {
    "colab": {
     "base_uri": "https://localhost:8080/"
    },
    "id": "Y9wXz_mWduqr",
    "outputId": "7b87d50f-0841-4412-ed5c-d0d2602fe4b9"
   },
   "outputs": [
    {
     "name": "stdout",
     "output_type": "stream",
     "text": [
      "Requirement already satisfied: sprynger in c:\\laragon\\bin\\python\\python-3.10\\lib\\site-packages (0.4.1)Note: you may need to restart the kernel to use updated packages.\n",
      "\n",
      "Requirement already satisfied: lxml in c:\\laragon\\bin\\python\\python-3.10\\lib\\site-packages (from sprynger) (6.0.1)\n",
      "Requirement already satisfied: requests in c:\\laragon\\bin\\python\\python-3.10\\lib\\site-packages (from sprynger) (2.32.4)\n",
      "Requirement already satisfied: platformdirs in c:\\laragon\\bin\\python\\python-3.10\\lib\\site-packages (from sprynger) (4.3.8)\n",
      "Requirement already satisfied: urllib3 in c:\\laragon\\bin\\python\\python-3.10\\lib\\site-packages (from sprynger) (2.5.0)\n",
      "Requirement already satisfied: tomli>=1.2.3 in c:\\laragon\\bin\\python\\python-3.10\\lib\\site-packages (from sprynger) (2.2.1)\n",
      "Requirement already satisfied: certifi>=2017.4.17 in c:\\laragon\\bin\\python\\python-3.10\\lib\\site-packages (from requests->sprynger) (2025.8.3)\n",
      "Requirement already satisfied: charset_normalizer<4,>=2 in c:\\laragon\\bin\\python\\python-3.10\\lib\\site-packages (from requests->sprynger) (3.4.2)\n",
      "Requirement already satisfied: idna<4,>=2.5 in c:\\laragon\\bin\\python\\python-3.10\\lib\\site-packages (from requests->sprynger) (3.10)\n"
     ]
    },
    {
     "name": "stderr",
     "output_type": "stream",
     "text": [
      "\n",
      "[notice] A new release of pip available: 22.2.2 -> 25.2\n",
      "[notice] To update, run: python.exe -m pip install --upgrade pip\n"
     ]
    }
   ],
   "source": [
    "pip install sprynger"
   ]
  },
  {
   "cell_type": "code",
   "execution_count": 2,
   "metadata": {
    "colab": {
     "base_uri": "https://localhost:8080/"
    },
    "id": "_bHjS8uedUyN",
    "outputId": "c42d1f56-edd3-45b6-ad83-dbc104c55532"
   },
   "outputs": [
    {
     "ename": "ModuleNotFoundError",
     "evalue": "No module named 'pandas'",
     "output_type": "error",
     "traceback": [
      "\u001b[1;31m---------------------------------------------------------------------------\u001b[0m",
      "\u001b[1;31mModuleNotFoundError\u001b[0m                       Traceback (most recent call last)",
      "Cell \u001b[1;32mIn[2], line 2\u001b[0m\n\u001b[0;32m      1\u001b[0m \u001b[38;5;28;01mimport\u001b[39;00m\u001b[38;5;250m \u001b[39m\u001b[38;5;21;01mrequests\u001b[39;00m\n\u001b[1;32m----> 2\u001b[0m \u001b[38;5;28;01mimport\u001b[39;00m\u001b[38;5;250m \u001b[39m\u001b[38;5;21;01mpandas\u001b[39;00m\u001b[38;5;250m \u001b[39m\u001b[38;5;28;01mas\u001b[39;00m\u001b[38;5;250m \u001b[39m\u001b[38;5;21;01mpd\u001b[39;00m\n\u001b[0;32m      4\u001b[0m \u001b[38;5;66;03m# Silahkan buat API key dari https://dev.springernature.com/#api\u001b[39;00m\n\u001b[0;32m      5\u001b[0m API_KEY \u001b[38;5;241m=\u001b[39m \u001b[38;5;124m\"\u001b[39m\u001b[38;5;124md16e27ffd519f216eff78d914d5aae4c\u001b[39m\u001b[38;5;124m\"\u001b[39m\n",
      "\u001b[1;31mModuleNotFoundError\u001b[0m: No module named 'pandas'"
     ]
    }
   ],
   "source": [
    "import requests\n",
    "import pandas as pd\n",
    "\n",
    "# Silahkan buat API key dari https://dev.springernature.com/#api\n",
    "API_KEY = \"d16e27ffd519f216eff78d914d5aae4c\"\n",
    "\n",
    "# Variasi kata kunci\n",
    "keywords = [\"web mining\", \"web usage mining\", \"data mining\"]\n",
    "\n",
    "# Endpoint API Springer\n",
    "url = \"https://api.springernature.com/meta/v2/json\"\n",
    "\n",
    "all_records = []\n",
    "\n",
    "for kw in keywords:\n",
    "    params = {\n",
    "        \"q\": kw,        # query keyword\n",
    "        \"api_key\": API_KEY,\n",
    "        \"p\": 20         # jumlah hasil per request (max 50)\n",
    "    }\n",
    "\n",
    "    response = requests.get(url, params=params)\n",
    "\n",
    "    if response.status_code == 200:\n",
    "        data = response.json()\n",
    "        print(f\"Keyword: {kw}\")\n",
    "        print(f\"Total hasil: {data['result'][0]['total']}\\n\")\n",
    "\n",
    "        for record in data.get('records', []):\n",
    "            all_records.append({\n",
    "                \"keyword\": kw,\n",
    "                \"doi\": record.get('doi', 'N/A'),\n",
    "                \"title\": record.get('title', 'No title'),\n",
    "                \"publicationName\": record.get('publicationName', 'N/A'),\n",
    "                \"url\": record.get('url', [{'value': 'N/A'}])[0]['value']\n",
    "            })\n",
    "    else:\n",
    "        print(\"Error:\", response.status_code, response.text)\n",
    "\n",
    "# Simpan ke CSV\n",
    "df = pd.DataFrame(all_records)\n",
    "df.to_csv(\"springer_crawling.csv\", index=False, encoding=\"utf-8\")\n",
    "print(\"Hasil crawling sudah disimpan ke springer_crawling.csv\")\n"
   ]
  }
 ],
 "metadata": {
  "colab": {
   "provenance": []
  },
  "kernelspec": {
   "display_name": "Python 3",
   "name": "python3"
  },
  "language_info": {
   "codemirror_mode": {
    "name": "ipython",
    "version": 3
   },
   "file_extension": ".py",
   "mimetype": "text/x-python",
   "name": "python",
   "nbconvert_exporter": "python",
   "pygments_lexer": "ipython3",
   "version": "3.10.6"
  }
 },
 "nbformat": 4,
 "nbformat_minor": 0
}