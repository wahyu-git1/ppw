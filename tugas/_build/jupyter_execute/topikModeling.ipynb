{
 "cells": [
  {
   "cell_type": "code",
   "execution_count": 1,
   "metadata": {
    "id": "eUGOjgziAXvJ"
   },
   "outputs": [],
   "source": [
    "# topikModeling"
   ]
  },
  {
   "cell_type": "code",
   "execution_count": 1,
   "metadata": {
    "colab": {
     "base_uri": "https://localhost:8080/"
    },
    "id": "Iz8u8VUnwhpZ",
    "outputId": "58df844a-6a58-4228-bfdb-bb7c21efbb1b"
   },
   "outputs": [
    {
     "name": "stdout",
     "output_type": "stream",
     "text": [
      "Collecting gensim\n",
      "  Downloading gensim-4.3.3.tar.gz (23.3 MB)\n",
      "     ---------------------------------------- 0.0/23.3 MB ? eta -:--:--\n",
      "      --------------------------------------- 0.5/23.3 MB 4.1 MB/s eta 0:00:06\n",
      "     --- ------------------------------------ 1.8/23.3 MB 5.2 MB/s eta 0:00:05\n",
      "     ---- ----------------------------------- 2.6/23.3 MB 4.5 MB/s eta 0:00:05\n",
      "     ------ --------------------------------- 3.7/23.3 MB 4.7 MB/s eta 0:00:05\n",
      "     -------- ------------------------------- 4.7/23.3 MB 4.8 MB/s eta 0:00:04\n",
      "     --------- ------------------------------ 5.5/23.3 MB 4.9 MB/s eta 0:00:04\n",
      "     ----------- ---------------------------- 6.6/23.3 MB 4.6 MB/s eta 0:00:04\n",
      "     ------------ --------------------------- 7.3/23.3 MB 4.6 MB/s eta 0:00:04\n",
      "     ------------- -------------------------- 8.1/23.3 MB 4.5 MB/s eta 0:00:04\n",
      "     --------------- ------------------------ 8.9/23.3 MB 4.4 MB/s eta 0:00:04\n",
      "     ---------------- ----------------------- 9.7/23.3 MB 4.3 MB/s eta 0:00:04\n",
      "     ------------------ --------------------- 10.5/23.3 MB 4.3 MB/s eta 0:00:03\n",
      "     ------------------ --------------------- 11.0/23.3 MB 4.2 MB/s eta 0:00:03\n",
      "     -------------------- ------------------- 12.1/23.3 MB 4.2 MB/s eta 0:00:03\n",
      "     ---------------------- ----------------- 12.8/23.3 MB 4.2 MB/s eta 0:00:03\n",
      "     ----------------------- ---------------- 13.6/23.3 MB 4.1 MB/s eta 0:00:03\n",
      "     ------------------------- -------------- 14.7/23.3 MB 4.2 MB/s eta 0:00:03\n",
      "     -------------------------- ------------- 15.2/23.3 MB 4.1 MB/s eta 0:00:02\n",
      "     --------------------------- ------------ 16.0/23.3 MB 4.1 MB/s eta 0:00:02\n",
      "     ---------------------------- ----------- 16.5/23.3 MB 4.0 MB/s eta 0:00:02\n",
      "     ---------------------------- ----------- 16.8/23.3 MB 4.0 MB/s eta 0:00:02\n",
      "     ----------------------------- ---------- 17.3/23.3 MB 3.8 MB/s eta 0:00:02\n",
      "     ------------------------------ --------- 17.6/23.3 MB 3.7 MB/s eta 0:00:02\n",
      "     ------------------------------ --------- 17.8/23.3 MB 3.6 MB/s eta 0:00:02\n",
      "     ------------------------------- -------- 18.1/23.3 MB 3.5 MB/s eta 0:00:02\n",
      "     -------------------------------- ------- 18.9/23.3 MB 3.5 MB/s eta 0:00:02\n",
      "     --------------------------------- ------ 19.4/23.3 MB 3.4 MB/s eta 0:00:02\n",
      "     ---------------------------------- ----- 19.9/23.3 MB 3.4 MB/s eta 0:00:01\n",
      "     ----------------------------------- ---- 20.7/23.3 MB 3.4 MB/s eta 0:00:01\n",
      "     ------------------------------------- -- 21.8/23.3 MB 3.4 MB/s eta 0:00:01\n",
      "     ---------------------------------------  22.8/23.3 MB 3.5 MB/s eta 0:00:01\n",
      "     ---------------------------------------- 23.3/23.3 MB 3.5 MB/s eta 0:00:00\n",
      "  Installing build dependencies: started\n",
      "  Installing build dependencies: finished with status 'done'\n",
      "  Getting requirements to build wheel: started\n",
      "  Getting requirements to build wheel: finished with status 'done'\n",
      "  Preparing metadata (pyproject.toml): started\n",
      "  Preparing metadata (pyproject.toml): finished with status 'done'\n",
      "Collecting numpy<2.0,>=1.18.5 (from gensim)\n",
      "  Downloading numpy-1.26.4.tar.gz (15.8 MB)\n",
      "     ---------------------------------------- 0.0/15.8 MB ? eta -:--:--\n",
      "     - -------------------------------------- 0.5/15.8 MB 2.4 MB/s eta 0:00:07\n",
      "     -- ------------------------------------- 1.0/15.8 MB 2.6 MB/s eta 0:00:06\n",
      "     ----- ---------------------------------- 2.1/15.8 MB 3.5 MB/s eta 0:00:04\n",
      "     --------- ------------------------------ 3.9/15.8 MB 5.2 MB/s eta 0:00:03\n",
      "     ----------------- ---------------------- 7.1/15.8 MB 7.2 MB/s eta 0:00:02\n",
      "     ------------------------- -------------- 10.0/15.8 MB 8.4 MB/s eta 0:00:01\n",
      "     ---------------------------------- ----- 13.6/15.8 MB 9.8 MB/s eta 0:00:01\n",
      "     --------------------------------------- 15.8/15.8 MB 10.0 MB/s eta 0:00:00\n",
      "  Installing build dependencies: started\n",
      "  Installing build dependencies: finished with status 'done'\n",
      "  Getting requirements to build wheel: started\n",
      "  Getting requirements to build wheel: finished with status 'done'\n",
      "  Installing backend dependencies: started\n",
      "  Installing backend dependencies: finished with status 'done'\n",
      "  Preparing metadata (pyproject.toml): started\n",
      "  Preparing metadata (pyproject.toml): finished with status 'error'\n"
     ]
    },
    {
     "name": "stderr",
     "output_type": "stream",
     "text": [
      "  error: subprocess-exited-with-error\n",
      "  \n",
      "  × Preparing metadata (pyproject.toml) did not run successfully.\n",
      "  │ exit code: 1\n",
      "  ╰─> [13 lines of output]\n",
      "      + c:\\Users\\wahyu\\AppData\\Local\\Programs\\Python\\Python313\\python.exe C:\\Users\\wahyu\\AppData\\Local\\Temp\\pip-install-1jvtrrtg\\numpy_2e0cdeb1ea1e4c90aa946ec73d8d50c7\\vendored-meson\\meson\\meson.py setup C:\\Users\\wahyu\\AppData\\Local\\Temp\\pip-install-1jvtrrtg\\numpy_2e0cdeb1ea1e4c90aa946ec73d8d50c7 C:\\Users\\wahyu\\AppData\\Local\\Temp\\pip-install-1jvtrrtg\\numpy_2e0cdeb1ea1e4c90aa946ec73d8d50c7\\.mesonpy-hmh152g5 -Dbuildtype=release -Db_ndebug=if-release -Db_vscrt=md --native-file=C:\\Users\\wahyu\\AppData\\Local\\Temp\\pip-install-1jvtrrtg\\numpy_2e0cdeb1ea1e4c90aa946ec73d8d50c7\\.mesonpy-hmh152g5\\meson-python-native-file.ini\n",
      "      The Meson build system\n",
      "      Version: 1.2.99\n",
      "      Source dir: C:\\Users\\wahyu\\AppData\\Local\\Temp\\pip-install-1jvtrrtg\\numpy_2e0cdeb1ea1e4c90aa946ec73d8d50c7\n",
      "      Build dir: C:\\Users\\wahyu\\AppData\\Local\\Temp\\pip-install-1jvtrrtg\\numpy_2e0cdeb1ea1e4c90aa946ec73d8d50c7\\.mesonpy-hmh152g5\n",
      "      Build type: native build\n",
      "      Project name: NumPy\n",
      "      Project version: 1.26.4\n",
      "      Activating VS 17.13.0\n",
      "      \n",
      "      ..\\meson.build:1:0: ERROR: Compiler cl cannot compile programs.\n",
      "      \n",
      "      A full log can be found at C:\\Users\\wahyu\\AppData\\Local\\Temp\\pip-install-1jvtrrtg\\numpy_2e0cdeb1ea1e4c90aa946ec73d8d50c7\\.mesonpy-hmh152g5\\meson-logs\\meson-log.txt\n",
      "      [end of output]\n",
      "  \n",
      "  note: This error originates from a subprocess, and is likely not a problem with pip.\n",
      "\n",
      "[notice] A new release of pip is available: 24.3.1 -> 25.2\n",
      "[notice] To update, run: python.exe -m pip install --upgrade pip\n",
      "error: metadata-generation-failed\n",
      "\n",
      "× Encountered error while generating package metadata.\n",
      "╰─> See above for output.\n",
      "\n",
      "note: This is an issue with the package mentioned above, not pip.\n",
      "hint: See above for details.\n"
     ]
    }
   ],
   "source": [
    "! pip install gensim"
   ]
  },
  {
   "cell_type": "code",
   "execution_count": 1,
   "metadata": {
    "id": "n9-BqNSvwrZW"
   },
   "outputs": [],
   "source": [
    "import pandas as pd\n",
    "import numpy as np"
   ]
  },
  {
   "cell_type": "markdown",
   "metadata": {
    "id": "3kedy0nO13la"
   },
   "source": [
    "### Load Data dati yang sudah di preprocessing sebelumnya"
   ]
  },
  {
   "cell_type": "code",
   "execution_count": 6,
   "metadata": {
    "id": "YzXt2e8Xvvnc"
   },
   "outputs": [],
   "source": [
    "load = pd.read_csv('/content/drive/MyDrive/Semester 7/PPW/Tugas5_tfIDF/hasil_stemm_berita400_sting.csv')\n",
    "cleanText = load['stemmed_text'].astype(str).tolist()\n",
    "\n",
    "corpusClean = [doc.split() for doc in cleanText]\n"
   ]
  },
  {
   "cell_type": "code",
   "execution_count": 10,
   "metadata": {
    "colab": {
     "base_uri": "https://localhost:8080/"
    },
    "id": "ySX5vDQd9BOm",
    "outputId": "bfef390c-9575-4b7a-858b-dd485e2481af"
   },
   "outputs": [
    {
     "data": {
      "text/plain": [
       "3919"
      ]
     },
     "execution_count": 10,
     "metadata": {},
     "output_type": "execute_result"
    }
   ],
   "source": [
    "len(corpusClean)"
   ]
  },
  {
   "cell_type": "code",
   "execution_count": null,
   "metadata": {
    "colab": {
     "base_uri": "https://localhost:8080/"
    },
    "id": "NoeTfz-6_n0U",
    "outputId": "6a3e3928-8c7f-4bd6-a7bd-0141d940f3e8"
   },
   "outputs": [
    {
     "name": "stdout",
     "output_type": "stream",
     "text": [
      "1035\n"
     ]
    }
   ],
   "source": [
    "print(len(corpusClean))"
   ]
  },
  {
   "cell_type": "markdown",
   "metadata": {
    "id": "4VZ3W2CN16Qb"
   },
   "source": [
    "### Create document menjadi term document Matrix"
   ]
  },
  {
   "cell_type": "code",
   "execution_count": 12,
   "metadata": {
    "id": "K3ZM5X2swAHs"
   },
   "outputs": [],
   "source": [
    "# converted to a term-document matrix\n",
    "# menghitung kemunculan setiap istilah dalam setiap dokumen dan kemudian menormalkan hitungan tersebut untuk membuat matriks nilai yang dapat digunakan untuk analisis\n",
    "\n",
    "\n",
    "from gensim import corpora\n",
    "\n",
    "# Creating document-term matrix\n",
    "dictionary = corpora.Dictionary(corpusClean)\n",
    "doc_term_matrix = [dictionary.doc2bow(doc) for doc in corpusClean]"
   ]
  },
  {
   "cell_type": "code",
   "execution_count": 16,
   "metadata": {
    "colab": {
     "base_uri": "https://localhost:8080/"
    },
    "id": "v_U7bELV9Pww",
    "outputId": "7073a534-f0b5-4338-ca43-a3ae89aa742d"
   },
   "outputs": [
    {
     "data": {
      "text/plain": [
       "3919"
      ]
     },
     "execution_count": 16,
     "metadata": {},
     "output_type": "execute_result"
    }
   ],
   "source": [
    "len(doc_term_matrix)"
   ]
  },
  {
   "cell_type": "markdown",
   "metadata": {
    "id": "3h192Pkg2Hph"
   },
   "source": [
    "### Gunakne Hasil TF-IDF"
   ]
  },
  {
   "cell_type": "code",
   "execution_count": null,
   "metadata": {
    "id": "H98RVgoNwAFE"
   },
   "outputs": [],
   "source": [
    "# untuk menggunakn LDA gunakan hasil TF-IDF\n",
    "from gensim import models\n",
    "tfidf = models.TfidfModel(doc_term_matrix)\n",
    "corpus_tfidf = tfidf[doc_term_matrix]"
   ]
  },
  {
   "cell_type": "code",
   "execution_count": null,
   "metadata": {
    "colab": {
     "base_uri": "https://localhost:8080/"
    },
    "id": "FW7jed599nCn",
    "outputId": "2ee5baf9-216c-4183-f8b8-dbb72050005e"
   },
   "outputs": [
    {
     "name": "stdout",
     "output_type": "stream",
     "text": [
      "[(0, 0.04023954076490745), (1, 0.0169495418025809), (2, 0.06153005131956023), (3, 0.060390710803988855), (4, 0.15176334182457987), (5, 0.02986903961952067), (6, 0.09399794987090349), (7, 0.10946779531409039), (8, 0.02246249766136611), (9, 0.3861160540905391), (10, 0.1010560524939497), (11, 0.009770130222808192), (12, 0.03925436707517151), (13, 0.008758258888650613), (14, 0.11853622277250607), (15, 0.0791225577967082), (16, 0.6210230405313014), (17, 0.059268111386253035), (18, 0.18985910376968984), (19, 0.03205560666822206), (20, 0.004022319196019467), (21, 0.047945174842063946), (22, 0.03912854352492092), (23, 0.13495461271102996), (24, 0.026709853855062176), (25, 0.04585794914416631), (26, 0.10554631827544941), (27, 0.05645664004830013), (28, 0.034834903340633716), (29, 0.01649966103892267), (30, 0.0394940222762072), (31, 0.3769234014975554), (32, 0.16690731792889224), (33, 0.0255355454777706), (34, 0.02951732723786247), (35, 0.016411451180514788), (36, 0.08467418396274953), (37, 0.004653046379284988), (38, 0.031619133927978764), (39, 0.06424716572251292), (40, 0.017847822751810113), (41, 0.022078255744768637), (42, 0.00774843712583248), (43, 0.06282056691625923), (44, 0.044049912004957545), (45, 0.05486183826686208), (46, 0.052144723863909385), (47, 0.05154064378208032), (48, 0.0791225577967082), (49, 0.017170507512060784), (50, 0.08491022044703901), (51, 0.044744431693715954), (52, 0.09399794987090349), (53, 0.020074259117407862), (54, 0.11853622277250607), (55, 0.047945174842063946), (56, 0.08786348224566096), (57, 0.04547651081121124), (58, 0.04275939640825854), (59, 0.049882783930602186), (60, 0.020967340909265133), (61, 0.030727074672069064), (62, 0.13114670984065255), (63, 0.04510552416953342), (64, 0.07220589437191006), (65, 0.002693773208634758), (66, 0.03511533049512097), (67, 0.022147393295306562), (68, 0.02198972565746711), (69, 0.11119714932982012), (70, 0.023167874091620824)]\n"
     ]
    }
   ],
   "source": [
    "for doc in corpus_tfidf:\n",
    "    print(doc)\n",
    "    break"
   ]
  },
  {
   "cell_type": "markdown",
   "metadata": {
    "id": "LyODPZHr2Oml"
   },
   "source": [
    "### LDA Model menggunakan tf-IDF"
   ]
  },
  {
   "cell_type": "code",
   "execution_count": null,
   "metadata": {
    "id": "AHYtlJAfwAC2"
   },
   "outputs": [],
   "source": [
    "# menggunakan LDA Model menggunakan tf-IDF\n",
    "from gensim.models import LdaModel\n",
    "\n",
    "# LDA model\n",
    "lda = LdaModel(corpus_tfidf, num_topics=100, id2word = dictionary, passes=15, random_state=42)"
   ]
  },
  {
   "cell_type": "code",
   "execution_count": null,
   "metadata": {
    "colab": {
     "base_uri": "https://localhost:8080/"
    },
    "id": "HHCfCl2L_cUB",
    "outputId": "6c875e3a-b298-4678-bdd1-baac4ca8a03a"
   },
   "outputs": [
    {
     "data": {
      "text/plain": [
       "<gensim.models.ldamodel.LdaModel at 0x7b3d933bf800>"
      ]
     },
     "execution_count": 16,
     "metadata": {},
     "output_type": "execute_result"
    }
   ],
   "source": [
    "lda"
   ]
  },
  {
   "cell_type": "code",
   "execution_count": null,
   "metadata": {
    "colab": {
     "base_uri": "https://localhost:8080/"
    },
    "id": "SAYdD3iWwAAq",
    "outputId": "1cb856fb-1f6a-46a5-c864-778253c51571"
   },
   "outputs": [
    {
     "name": "stdout",
     "output_type": "stream",
     "text": [
      "Topic: 1 \n",
      "Words: 0.071*\"undang\" + 0.070*\"keras\" + 0.040*\"sanksi\" + 0.035*\"narapidana\" + 0.022*\"seksual\" + 0.019*\"konsep\" + 0.016*\"berat\" + 0.016*\"tuju\" + 0.015*\"pidana\" + 0.015*\"bina\"\n",
      "\n",
      "\n",
      "Topic: 42 \n",
      "Words: 0.000*\"immaterill\" + 0.000*\"bpk\" + 0.000*\"juurusita\" + 0.000*\"menag\" + 0.000*\"sampaipelaksanaan\" + 0.000*\"bioskop\" + 0.000*\"ekstensif\" + 0.000*\"majemuk\" + 0.000*\"atb\" + 0.000*\"rir\"\n",
      "\n",
      "\n",
      "Topic: 23 \n",
      "Words: 0.000*\"immaterill\" + 0.000*\"bpk\" + 0.000*\"juurusita\" + 0.000*\"menag\" + 0.000*\"sampaipelaksanaan\" + 0.000*\"bioskop\" + 0.000*\"ekstensif\" + 0.000*\"majemuk\" + 0.000*\"atb\" + 0.000*\"rir\"\n",
      "\n",
      "\n",
      "Topic: 33 \n",
      "Words: 0.000*\"immaterill\" + 0.000*\"bpk\" + 0.000*\"juurusita\" + 0.000*\"menag\" + 0.000*\"sampaipelaksanaan\" + 0.000*\"bioskop\" + 0.000*\"ekstensif\" + 0.000*\"majemuk\" + 0.000*\"atb\" + 0.000*\"rir\"\n",
      "\n",
      "\n",
      "Topic: 76 \n",
      "Words: 0.052*\"lindung\" + 0.044*\"pidana\" + 0.044*\"negara\" + 0.040*\"indonesia\" + 0.031*\"bahan\" + 0.029*\"tindak\" + 0.028*\"buat\" + 0.026*\"masyarakat\" + 0.026*\"republik\" + 0.025*\"polisi\"\n",
      "\n",
      "\n",
      "Topic: 73 \n",
      "Words: 0.000*\"immaterill\" + 0.000*\"bpk\" + 0.000*\"juurusita\" + 0.000*\"menag\" + 0.000*\"sampaipelaksanaan\" + 0.000*\"bioskop\" + 0.000*\"ekstensif\" + 0.000*\"majemuk\" + 0.000*\"atb\" + 0.000*\"rir\"\n",
      "\n",
      "\n",
      "Topic: 74 \n",
      "Words: 0.000*\"immaterill\" + 0.000*\"bpk\" + 0.000*\"juurusita\" + 0.000*\"menag\" + 0.000*\"sampaipelaksanaan\" + 0.000*\"bioskop\" + 0.000*\"ekstensif\" + 0.000*\"majemuk\" + 0.000*\"atb\" + 0.000*\"rir\"\n",
      "\n",
      "\n",
      "Topic: 91 \n",
      "Words: 0.000*\"immaterill\" + 0.000*\"bpk\" + 0.000*\"juurusita\" + 0.000*\"menag\" + 0.000*\"sampaipelaksanaan\" + 0.000*\"bioskop\" + 0.000*\"ekstensif\" + 0.000*\"majemuk\" + 0.000*\"atb\" + 0.000*\"rir\"\n",
      "\n",
      "\n",
      "Topic: 94 \n",
      "Words: 0.000*\"immaterill\" + 0.000*\"bpk\" + 0.000*\"juurusita\" + 0.000*\"menag\" + 0.000*\"sampaipelaksanaan\" + 0.000*\"bioskop\" + 0.000*\"ekstensif\" + 0.000*\"majemuk\" + 0.000*\"atb\" + 0.000*\"rir\"\n",
      "\n",
      "\n",
      "Topic: 32 \n",
      "Words: 0.032*\"mati\" + 0.027*\"penjara\" + 0.018*\"dakwa\" + 0.017*\"ancam\" + 0.011*\"maksimal\" + 0.006*\"bin\" + 0.005*\"putus\" + 0.005*\"berat\" + 0.004*\"keras\" + 0.002*\"sebelas\"\n",
      "\n",
      "\n",
      "Topic: 41 \n",
      "Words: 0.000*\"immaterill\" + 0.000*\"bpk\" + 0.000*\"juurusita\" + 0.000*\"menag\" + 0.000*\"sampaipelaksanaan\" + 0.000*\"bioskop\" + 0.000*\"ekstensif\" + 0.000*\"majemuk\" + 0.000*\"atb\" + 0.000*\"rir\"\n",
      "\n",
      "\n",
      "Topic: 96 \n",
      "Words: 0.000*\"immaterill\" + 0.000*\"bpk\" + 0.000*\"juurusita\" + 0.000*\"menag\" + 0.000*\"sampaipelaksanaan\" + 0.000*\"bioskop\" + 0.000*\"ekstensif\" + 0.000*\"majemuk\" + 0.000*\"atb\" + 0.000*\"rir\"\n",
      "\n",
      "\n",
      "Topic: 62 \n",
      "Words: 0.000*\"immaterill\" + 0.000*\"bpk\" + 0.000*\"juurusita\" + 0.000*\"menag\" + 0.000*\"sampaipelaksanaan\" + 0.000*\"bioskop\" + 0.000*\"ekstensif\" + 0.000*\"majemuk\" + 0.000*\"atb\" + 0.000*\"rir\"\n",
      "\n",
      "\n",
      "Topic: 84 \n",
      "Words: 0.000*\"immaterill\" + 0.000*\"bpk\" + 0.000*\"juurusita\" + 0.000*\"menag\" + 0.000*\"sampaipelaksanaan\" + 0.000*\"bioskop\" + 0.000*\"ekstensif\" + 0.000*\"majemuk\" + 0.000*\"atb\" + 0.000*\"rir\"\n",
      "\n",
      "\n",
      "Topic: 82 \n",
      "Words: 0.000*\"immaterill\" + 0.000*\"bpk\" + 0.000*\"juurusita\" + 0.000*\"menag\" + 0.000*\"sampaipelaksanaan\" + 0.000*\"bioskop\" + 0.000*\"ekstensif\" + 0.000*\"majemuk\" + 0.000*\"atb\" + 0.000*\"rir\"\n",
      "\n",
      "\n",
      "Topic: 81 \n",
      "Words: 0.000*\"immaterill\" + 0.000*\"bpk\" + 0.000*\"juurusita\" + 0.000*\"menag\" + 0.000*\"sampaipelaksanaan\" + 0.000*\"bioskop\" + 0.000*\"ekstensif\" + 0.000*\"majemuk\" + 0.000*\"atb\" + 0.000*\"rir\"\n",
      "\n",
      "\n",
      "Topic: 7 \n",
      "Words: 0.097*\"kawin\" + 0.040*\"agama\" + 0.031*\"nikah\" + 0.025*\"anak\" + 0.023*\"tua\" + 0.018*\"usia\" + 0.017*\"keluarga\" + 0.010*\"bawah\" + 0.008*\"meni\" + 0.004*\"umur\"\n",
      "\n",
      "\n",
      "Topic: 95 \n",
      "Words: 0.000*\"immaterill\" + 0.000*\"bpk\" + 0.000*\"juurusita\" + 0.000*\"menag\" + 0.000*\"sampaipelaksanaan\" + 0.000*\"bioskop\" + 0.000*\"ekstensif\" + 0.000*\"majemuk\" + 0.000*\"atb\" + 0.000*\"rir\"\n",
      "\n",
      "\n",
      "Topic: 88 \n",
      "Words: 0.003*\"hasana\" + 0.003*\"marsiati\" + 0.003*\"riyadi\" + 0.003*\"binti\" + 0.003*\"abdullah\" + 0.002*\"pebruari\" + 0.002*\"nopidbpnsmp\" + 0.002*\"dr\" + 0.002*\"kelamin\" + 0.002*\"amar\"\n",
      "\n",
      "\n",
      "Topic: 37 \n",
      "Words: 0.000*\"immaterill\" + 0.000*\"bpk\" + 0.000*\"juurusita\" + 0.000*\"menag\" + 0.000*\"sampaipelaksanaan\" + 0.000*\"bioskop\" + 0.000*\"ekstensif\" + 0.000*\"majemuk\" + 0.000*\"atb\" + 0.000*\"rir\"\n",
      "\n",
      "\n"
     ]
    }
   ],
   "source": [
    "for idx, topic in lda.print_topics():\n",
    "    print(\"Topic: {} \\nWords: {}\".format(idx, topic))\n",
    "    print(\"\\n\")"
   ]
  },
  {
   "cell_type": "markdown",
   "metadata": {
    "id": "mqkMUoBlwzcD"
   },
   "source": [
    "###  Evaluation LDA Model_Topic conherence\n"
   ]
  },
  {
   "cell_type": "code",
   "execution_count": 3,
   "metadata": {
    "colab": {
     "base_uri": "https://localhost:8080/",
     "height": 228
    },
    "id": "ZsYUVTFKv_-e",
    "outputId": "c3fa22d3-a9e3-4840-9485-dcb2834ae4d8"
   },
   "outputs": [
    {
     "ename": "NameError",
     "evalue": "name 'lda' is not defined",
     "output_type": "error",
     "traceback": [
      "\u001b[0;31m---------------------------------------------------------------------------\u001b[0m",
      "\u001b[0;31mNameError\u001b[0m                                 Traceback (most recent call last)",
      "\u001b[0;32m/tmp/ipython-input-1863154290.py\u001b[0m in \u001b[0;36m<cell line: 0>\u001b[0;34m()\u001b[0m\n\u001b[1;32m      1\u001b[0m \u001b[0;32mfrom\u001b[0m \u001b[0mgensim\u001b[0m\u001b[0;34m.\u001b[0m\u001b[0mmodels\u001b[0m \u001b[0;32mimport\u001b[0m \u001b[0mCoherenceModel\u001b[0m\u001b[0;34m\u001b[0m\u001b[0;34m\u001b[0m\u001b[0m\n\u001b[1;32m      2\u001b[0m \u001b[0;34m\u001b[0m\u001b[0m\n\u001b[0;32m----> 3\u001b[0;31m \u001b[0mcoherence_model_lda\u001b[0m \u001b[0;34m=\u001b[0m \u001b[0mCoherenceModel\u001b[0m\u001b[0;34m(\u001b[0m\u001b[0mmodel\u001b[0m\u001b[0;34m=\u001b[0m\u001b[0mlda\u001b[0m\u001b[0;34m,\u001b[0m \u001b[0mtexts\u001b[0m\u001b[0;34m=\u001b[0m\u001b[0mcorpusClean\u001b[0m\u001b[0;34m,\u001b[0m \u001b[0mdictionary\u001b[0m\u001b[0;34m=\u001b[0m\u001b[0mdictionary\u001b[0m\u001b[0;34m,\u001b[0m \u001b[0mcoherence\u001b[0m\u001b[0;34m=\u001b[0m\u001b[0;34m'c_v'\u001b[0m\u001b[0;34m)\u001b[0m\u001b[0;34m\u001b[0m\u001b[0;34m\u001b[0m\u001b[0m\n\u001b[0m\u001b[1;32m      4\u001b[0m \u001b[0mcoherence_lda\u001b[0m \u001b[0;34m=\u001b[0m \u001b[0mcoherence_model_lda\u001b[0m\u001b[0;34m.\u001b[0m\u001b[0mget_coherence\u001b[0m\u001b[0;34m(\u001b[0m\u001b[0;34m)\u001b[0m\u001b[0;34m\u001b[0m\u001b[0;34m\u001b[0m\u001b[0m\n\u001b[1;32m      5\u001b[0m \u001b[0mprint\u001b[0m\u001b[0;34m(\u001b[0m\u001b[0;34m'\\nCoherence Score: '\u001b[0m\u001b[0;34m,\u001b[0m \u001b[0mcoherence_lda\u001b[0m\u001b[0;34m)\u001b[0m\u001b[0;34m\u001b[0m\u001b[0;34m\u001b[0m\u001b[0m\n",
      "\u001b[0;31mNameError\u001b[0m: name 'lda' is not defined"
     ]
    }
   ],
   "source": [
    "from gensim.models import CoherenceModel\n",
    "\n",
    "coherence_model_lda = CoherenceModel(model=lda, texts=corpusClean, dictionary=dictionary, coherence='c_v')\n",
    "coherence_lda = coherence_model_lda.get_coherence()\n",
    "print('\\nCoherence Score: ', coherence_lda)"
   ]
  },
  {
   "cell_type": "markdown",
   "metadata": {
    "id": "jkHwdy7z2pgH"
   },
   "source": [
    "Nilai 0.4813 menunjukkan bahwa:\n",
    "\n",
    "Model sudah menghasilkan topik yang cukup masuk akal, tetapi Masih ada ruang untuk perbaikan agar kata-kata dalam topik lebih saling berkaitan."
   ]
  },
  {
   "cell_type": "code",
   "execution_count": null,
   "metadata": {
    "id": "QSbmNm1Q4sRb"
   },
   "outputs": [],
   "source": []
  }
 ],
 "metadata": {
  "colab": {
   "provenance": []
  },
  "kernelspec": {
   "display_name": "Python 3",
   "name": "python3"
  },
  "language_info": {
   "codemirror_mode": {
    "name": "ipython",
    "version": 3
   },
   "file_extension": ".py",
   "mimetype": "text/x-python",
   "name": "python",
   "nbconvert_exporter": "python",
   "pygments_lexer": "ipython3",
   "version": "3.13.2"
  }
 },
 "nbformat": 4,
 "nbformat_minor": 0
}